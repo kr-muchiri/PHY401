{
 "cells": [
  {
   "cell_type": "code",
   "execution_count": 1,
   "id": "de44ef39-880c-471a-bcd1-1aea839d851e",
   "metadata": {},
   "outputs": [],
   "source": [
    "import qiskit\n",
    "from qiskit import *\n",
    "import matplotlib.pyplot as plt\n",
    "from qiskit.providers.aer import AerSimulator  # Import AerSimulator module\n",
    "from qiskit.visualization import plot_histogram\n"
   ]
  },
  {
   "cell_type": "code",
   "execution_count": 2,
   "id": "b54fd069-5cc3-4eaf-b0f6-e9c3399ea886",
   "metadata": {},
   "outputs": [
    {
     "data": {
      "text/plain": [
       "{'qiskit-terra': '0.25.1', 'qiskit': '0.44.1', 'qiskit-aer': '0.12.2', 'qiskit-ignis': None, 'qiskit-ibmq-provider': '0.20.2', 'qiskit-nature': None, 'qiskit-finance': None, 'qiskit-optimization': None, 'qiskit-machine-learning': None}"
      ]
     },
     "execution_count": 2,
     "metadata": {},
     "output_type": "execute_result"
    }
   ],
   "source": [
    "qiskit.__qiskit_version__"
   ]
  },
  {
   "cell_type": "code",
   "execution_count": 62,
   "id": "bdc0aded-9c06-46ed-a522-844729bb0571",
   "metadata": {},
   "outputs": [],
   "source": [
    "from qiskit_ibm_provider import IBMProvider"
   ]
  },
  {
   "cell_type": "code",
   "execution_count": 3,
   "id": "9a291c66-cf36-4d95-9df5-2bbf63fbf8e6",
   "metadata": {},
   "outputs": [
    {
     "name": "stderr",
     "output_type": "stream",
     "text": [
      "C:\\Users\\kahwa\\AppData\\Local\\Temp\\ipykernel_4704\\806053787.py:1: DeprecationWarning: The qiskit.IBMQ entrypoint and the qiskit-ibmq-provider package (accessible from 'qiskit.providers.ibmq`) are deprecated and will be removed in a future release. Instead you should use the qiskit-ibm-provider package which is accessible from 'qiskit_ibm_provider'. You can install it with 'pip install qiskit_ibm_provider'. Just replace 'qiskit.IBMQ' with 'qiskit_ibm_provider.IBMProvider'\n",
      "  IBMQ.save_account('7fb56d769703414163d734d622ff2973101cbfdfd2d333443e19af50fb6371c40ab21edb63449153cac73e1afad3ba4b655d2468c4d93b7d639706742e0d1d55',overwrite=True)\n"
     ]
    }
   ],
   "source": [
    "IBMQ.save_account('7fb56d769703414163d734d622ff2973101cbfdfd2d333443e19af50fb6371c40ab21edb63449153cac73e1afad3ba4b655d2468c4d93b7d639706742e0d1d55',overwrite=True)"
   ]
  },
  {
   "cell_type": "code",
   "execution_count": 4,
   "id": "d9af0fe0-49fb-481e-8c0a-709799b706f6",
   "metadata": {},
   "outputs": [
    {
     "data": {
      "text/plain": [
       "<AccountProvider for IBMQ(hub='ibm-q', group='open', project='main')>"
      ]
     },
     "execution_count": 4,
     "metadata": {},
     "output_type": "execute_result"
    }
   ],
   "source": [
    "IBMQ.load_account()"
   ]
  },
  {
   "cell_type": "markdown",
   "id": "faae5cce-39b7-4278-a112-1d1713d11a4c",
   "metadata": {},
   "source": [
    "The code qr = QuantumRegister(2) creates a quantum register with 2 qubits. In Qiskit, a quantum register is essentially a set of qubits that can be used in the construction of a quantum circuit. You can think of a quantum register as an array of qubits, where each qubit can be manipulated through quantum gates."
   ]
  },
  {
   "cell_type": "code",
   "execution_count": 5,
   "id": "c7e24355-6ed3-4bb9-84f8-fe68c743c6d4",
   "metadata": {},
   "outputs": [
    {
     "data": {
      "image/png": "[encoded data removed]",
      "text/plain": [
       "<Figure size 191.724x117.056 with 1 Axes>"
      ]
     },
     "execution_count": 5,
     "metadata": {},
     "output_type": "execute_result"
    }
   ],
   "source": [
    "qr = QuantumRegister(1, 'qreg')\n",
    "\n",
    "# Create a quantum circuit using the above register\n",
    "qc = QuantumCircuit(qr)\n",
    "\n",
    "# Draw the circuit\n",
    "qc.draw('mpl')  # 'mpl' specifies that Matplotlib should be used for drawing"
   ]
  },
  {
   "cell_type": "markdown",
   "id": "a087c639-fc9c-4309-a8bb-279890cc95ba",
   "metadata": {},
   "source": [
    "- The code starts by creating a classical register named creg that has two classical bits. Classical registers are used to store classical information within a quantum circuit. Then, a quantum circuit is initialized using only the classical register cr. This means the circuit is purely classical at this stage and doesn't involve any quantum operations.Finally, the quantum circuit is drawn using Matplotlib ('mpl'). This gives us a visual representation of the circuit, which in this case, would only show the classical register with its two bits.\n",
    "\n",
    "- In the context of quantum computing, a \"circuit\" refers to a sequence of quantum gates and operations that are applied to an initial state of qubits. These gates manipulate an input of qubits into a different output of qubits by changing their probabilities. The circuit can also include classical registers for storing classical information and can feature operations like measurement that extract classical information from qubits.\r\n",
    "\r\n",
    "Here's a breakdown:1. \r\n",
    "\r\n",
    "Qubit Initialization: At the start, the qubits are usually initialized to a specific state, commonly the \"zero\" stt \n",
    "∣\n",
    "⟩2. \r\n",
    "∣0⟩.\r\n",
    "\r\n",
    "Quantum Gates: Then, quantum gates are applied to these qubits. These gates manipulate the states of the qubits, essentially like logical operations in classical computing, but with the difference that they work on superpositions of3.  states.\r\n",
    "\r\n",
    "Measurement: After applying various gates, qubits are often measured, collapsing their superposed state into one of the basis states. The outcome of each measurement is a classical bit, and these classical bits are often stored in a classical4.  register.\r\n",
    "\r\n",
    "Classical Register: The classical register stores classical bits, often the results of measurements on qubits.\r\n",
    "\r\n",
    "In your spe- cific example:\r\n",
    "\r\n",
    "ClassicalRegister(2, 'creg') creates a classical register named creg that has space for storing 2-  classical bits.\r\n",
    "\r\n",
    "QuantumCircuit(cr) then initializes a new quantum circuit that currently only includes this classical register.\r\n",
    "\r\n",
    "So, the \"circuit\" here encapsulates all these aspects: qubit states, quantum operations on those states, and often also measurements and classical registers for storing the results \n",
    "\n",
    "- In quantum computing, a classical register is a set of classical bits that are used to store the outcomes of quantum measurements. When a qubit is measured, its superposition collapses to one of the basis states, and the result of the measurement is a classical bit of information—either 0 or 1. This classical bit is stored in the classical register for further processing or output. \r\n",
    "A classical register is defined in the context of a quantum circuit to provide a place where these classical measurement results can be stored. It functions similarly to registers in classical computing, which hold and manipulate data in a CPU.ofse measurements.\r\n",
    "\r\n",
    "\r\n",
    "\r\n",
    "\r\n",
    "\r\n"
   ]
  },
  {
   "cell_type": "code",
   "execution_count": 6,
   "id": "a9c6c8cd-af9e-4d04-ae58-47c5186e4b96",
   "metadata": {},
   "outputs": [
    {
     "data": {
      "image/png": "[encoded data removed]",
      "text/plain": [
       "<Figure size 189.32x117.056 with 1 Axes>"
      ]
     },
     "execution_count": 6,
     "metadata": {},
     "output_type": "execute_result"
    }
   ],
   "source": [
    "# Create a classical register with 2 bits\n",
    "cr = ClassicalRegister(1, 'creg')\n",
    "\n",
    "# Create a quantum circuit using only the classical register\n",
    "qc = QuantumCircuit(cr)\n",
    "\n",
    "# Draw the circuit\n",
    "qc.draw('mpl')\n"
   ]
  },
  {
   "cell_type": "markdown",
   "id": "7608389b-c9c1-46dd-ae92-6a3732f8e9d1",
   "metadata": {},
   "source": [
    "The line circuit = QuantumCircuit(qr, cr) creates a new quantum circuit that includes both a quantum register qr and a classical register cr.\r\n",
    "\r\n",
    "qr: A quantum register that contains a specified number of qubits. These qubits are the fundamental units of quantum information and will undergo various quantum operations (gates) during the computation.\r\n",
    "\r\n",
    "cr: A classical register that contains a specified number of classical bits. These bits are used to store the results of measurements on the qubits in the quantum register.\r\n",
    "\r\n",
    "Including both registers in a single QuantumCircuit object allows you to perform quantum operations and measurements within the same circuit. After performing quantum operations on the qubits in qr, you can measure the qubits and store the resulting classical information in cr."
   ]
  },
  {
   "cell_type": "code",
   "execution_count": 7,
   "id": "fde855b6-8b5d-41c5-96c5-084269619db0",
   "metadata": {},
   "outputs": [],
   "source": [
    "circuit = QuantumCircuit(qr,cr)"
   ]
  },
  {
   "cell_type": "code",
   "execution_count": 8,
   "id": "5857f05b-5a89-4e30-80ff-cb3801d7b491",
   "metadata": {},
   "outputs": [
    {
     "data": {
      "text/html": [
       "<pre style=\"word-wrap: normal;white-space: pre;background: #fff0;line-height: 1.1;font-family: &quot;Courier New&quot;,Courier,monospace\">        \n",
       "  qreg: \n",
       "        \n",
       "creg: 1/\n",
       "        </pre>"
      ],
      "text/plain": [
       "        \n",
       "  qreg: \n",
       "        \n",
       "creg: 1/\n",
       "        "
      ]
     },
     "execution_count": 8,
     "metadata": {},
     "output_type": "execute_result"
    }
   ],
   "source": [
    "circuit.draw()"
   ]
  },
  {
   "cell_type": "markdown",
   "id": "1da4e815-d6cb-4a5d-b16c-380f374e4e14",
   "metadata": {},
   "source": [
    "\n",
    "- qreg_0 and qreg_1: These lines would represent the qubits in the quantum register. No gates have been applied yet.\n",
    "\n",
    "- creg: 2/: This line represents a classical register with 2 bits, also empty since we haven't performed any measurements or classical operations."
   ]
  },
  {
   "cell_type": "code",
   "execution_count": 9,
   "id": "200b2dbd-e338-44e7-9b1f-af70a344380f",
   "metadata": {},
   "outputs": [
    {
     "data": {
      "image/png": "[encoded data removed]",
      "text/plain": [
       "<Figure size 191.724x200.667 with 1 Axes>"
      ]
     },
     "execution_count": 9,
     "metadata": {},
     "output_type": "execute_result"
    }
   ],
   "source": [
    "circuit.draw(output='mpl')\n"
   ]
  },
  {
   "cell_type": "markdown",
   "id": "6cfa9c45-a351-48e3-8fda-5941b1833a75",
   "metadata": {},
   "source": [
    "Each line in the output represents either a quantum register or a classical register. Symbols on these lines represent the quantum gates or classical operations that are applied to the corresponding qubits or bits."
   ]
  },
  {
   "cell_type": "code",
   "execution_count": 13,
   "id": "031a7951-f977-442f-8d0e-ff9c6f8dd53f",
   "metadata": {},
   "outputs": [
    {
     "ename": "TypeError",
     "evalue": "label expects a string or None",
     "output_type": "error",
     "traceback": [
      "\u001b[1;31m---------------------------------------------------------------------------\u001b[0m",
      "\u001b[1;31mTypeError\u001b[0m                                 Traceback (most recent call last)",
      "Cell \u001b[1;32mIn[13], line 1\u001b[0m\n\u001b[1;32m----> 1\u001b[0m \u001b[43mcircuit\u001b[49m\u001b[38;5;241;43m.\u001b[39;49m\u001b[43mx\u001b[49m\u001b[43m(\u001b[49m\u001b[43mqr\u001b[49m\u001b[43m[\u001b[49m\u001b[38;5;241;43m0\u001b[39;49m\u001b[43m]\u001b[49m\u001b[43m,\u001b[49m\u001b[43mqr\u001b[49m\u001b[43m[\u001b[49m\u001b[38;5;241;43m0\u001b[39;49m\u001b[43m]\u001b[49m\u001b[43m)\u001b[49m\n",
      "File \u001b[1;32m~\\AppData\\Local\\Programs\\Python\\Python311\\Lib\\site-packages\\qiskit\\circuit\\quantumcircuit.py:3837\u001b[0m, in \u001b[0;36mQuantumCircuit.x\u001b[1;34m(self, qubit, label)\u001b[0m\n\u001b[0;32m   3824\u001b[0m \u001b[38;5;250m\u001b[39m\u001b[38;5;124mr\u001b[39m\u001b[38;5;124;03m\"\"\"Apply :class:`~qiskit.circuit.library.XGate`.\u001b[39;00m\n\u001b[0;32m   3825\u001b[0m \n\u001b[0;32m   3826\u001b[0m \u001b[38;5;124;03mFor the full matrix form of this gate, see the underlying gate documentation.\u001b[39;00m\n\u001b[1;32m   (...)\u001b[0m\n\u001b[0;32m   3833\u001b[0m \u001b[38;5;124;03m    A handle to the instructions created.\u001b[39;00m\n\u001b[0;32m   3834\u001b[0m \u001b[38;5;124;03m\"\"\"\u001b[39;00m\n\u001b[0;32m   3835\u001b[0m \u001b[38;5;28;01mfrom\u001b[39;00m \u001b[38;5;21;01m.\u001b[39;00m\u001b[38;5;21;01mlibrary\u001b[39;00m\u001b[38;5;21;01m.\u001b[39;00m\u001b[38;5;21;01mstandard_gates\u001b[39;00m\u001b[38;5;21;01m.\u001b[39;00m\u001b[38;5;21;01mx\u001b[39;00m \u001b[38;5;28;01mimport\u001b[39;00m XGate\n\u001b[1;32m-> 3837\u001b[0m \u001b[38;5;28;01mreturn\u001b[39;00m \u001b[38;5;28mself\u001b[39m\u001b[38;5;241m.\u001b[39mappend(\u001b[43mXGate\u001b[49m\u001b[43m(\u001b[49m\u001b[43mlabel\u001b[49m\u001b[38;5;241;43m=\u001b[39;49m\u001b[43mlabel\u001b[49m\u001b[43m)\u001b[49m, [qubit], [])\n",
      "File \u001b[1;32m~\\AppData\\Local\\Programs\\Python\\Python311\\Lib\\site-packages\\qiskit\\circuit\\library\\standard_gates\\x.py:81\u001b[0m, in \u001b[0;36mXGate.__init__\u001b[1;34m(self, label)\u001b[0m\n\u001b[0;32m     79\u001b[0m \u001b[38;5;28;01mdef\u001b[39;00m \u001b[38;5;21m__init__\u001b[39m(\u001b[38;5;28mself\u001b[39m, label: Optional[\u001b[38;5;28mstr\u001b[39m] \u001b[38;5;241m=\u001b[39m \u001b[38;5;28;01mNone\u001b[39;00m):\n\u001b[0;32m     80\u001b[0m \u001b[38;5;250m    \u001b[39m\u001b[38;5;124;03m\"\"\"Create new X gate.\"\"\"\u001b[39;00m\n\u001b[1;32m---> 81\u001b[0m     \u001b[38;5;28;43msuper\u001b[39;49m\u001b[43m(\u001b[49m\u001b[43m)\u001b[49m\u001b[38;5;241;43m.\u001b[39;49m\u001b[38;5;21;43m__init__\u001b[39;49m\u001b[43m(\u001b[49m\u001b[38;5;124;43m\"\u001b[39;49m\u001b[38;5;124;43mx\u001b[39;49m\u001b[38;5;124;43m\"\u001b[39;49m\u001b[43m,\u001b[49m\u001b[43m \u001b[49m\u001b[38;5;241;43m1\u001b[39;49m\u001b[43m,\u001b[49m\u001b[43m \u001b[49m\u001b[43m[\u001b[49m\u001b[43m]\u001b[49m\u001b[43m,\u001b[49m\u001b[43m \u001b[49m\u001b[43mlabel\u001b[49m\u001b[38;5;241;43m=\u001b[39;49m\u001b[43mlabel\u001b[49m\u001b[43m)\u001b[49m\n",
      "File \u001b[1;32m~\\AppData\\Local\\Programs\\Python\\Python311\\Lib\\site-packages\\qiskit\\circuit\\gate.py:37\u001b[0m, in \u001b[0;36mGate.__init__\u001b[1;34m(self, name, num_qubits, params, label)\u001b[0m\n\u001b[0;32m     28\u001b[0m \u001b[38;5;250m\u001b[39m\u001b[38;5;124;03m\"\"\"Create a new gate.\u001b[39;00m\n\u001b[0;32m     29\u001b[0m \n\u001b[0;32m     30\u001b[0m \u001b[38;5;124;03mArgs:\u001b[39;00m\n\u001b[1;32m   (...)\u001b[0m\n\u001b[0;32m     34\u001b[0m \u001b[38;5;124;03m    label: An optional label for the gate.\u001b[39;00m\n\u001b[0;32m     35\u001b[0m \u001b[38;5;124;03m\"\"\"\u001b[39;00m\n\u001b[0;32m     36\u001b[0m \u001b[38;5;28mself\u001b[39m\u001b[38;5;241m.\u001b[39mdefinition \u001b[38;5;241m=\u001b[39m \u001b[38;5;28;01mNone\u001b[39;00m\n\u001b[1;32m---> 37\u001b[0m \u001b[38;5;28;43msuper\u001b[39;49m\u001b[43m(\u001b[49m\u001b[43m)\u001b[49m\u001b[38;5;241;43m.\u001b[39;49m\u001b[38;5;21;43m__init__\u001b[39;49m\u001b[43m(\u001b[49m\u001b[43mname\u001b[49m\u001b[43m,\u001b[49m\u001b[43m \u001b[49m\u001b[43mnum_qubits\u001b[49m\u001b[43m,\u001b[49m\u001b[43m \u001b[49m\u001b[38;5;241;43m0\u001b[39;49m\u001b[43m,\u001b[49m\u001b[43m \u001b[49m\u001b[43mparams\u001b[49m\u001b[43m,\u001b[49m\u001b[43m \u001b[49m\u001b[43mlabel\u001b[49m\u001b[38;5;241;43m=\u001b[39;49m\u001b[43mlabel\u001b[49m\u001b[43m)\u001b[49m\n",
      "File \u001b[1;32m~\\AppData\\Local\\Programs\\Python\\Python311\\Lib\\site-packages\\qiskit\\circuit\\instruction.py:93\u001b[0m, in \u001b[0;36mInstruction.__init__\u001b[1;34m(self, name, num_qubits, num_clbits, params, duration, unit, label)\u001b[0m\n\u001b[0;32m     91\u001b[0m \u001b[38;5;28;01mif\u001b[39;00m \u001b[38;5;129;01mnot\u001b[39;00m \u001b[38;5;28mhasattr\u001b[39m(\u001b[38;5;28mself\u001b[39m, \u001b[38;5;124m\"\u001b[39m\u001b[38;5;124m_label\u001b[39m\u001b[38;5;124m\"\u001b[39m):\n\u001b[0;32m     92\u001b[0m     \u001b[38;5;28;01mif\u001b[39;00m label \u001b[38;5;129;01mis\u001b[39;00m \u001b[38;5;129;01mnot\u001b[39;00m \u001b[38;5;28;01mNone\u001b[39;00m \u001b[38;5;129;01mand\u001b[39;00m \u001b[38;5;129;01mnot\u001b[39;00m \u001b[38;5;28misinstance\u001b[39m(label, \u001b[38;5;28mstr\u001b[39m):\n\u001b[1;32m---> 93\u001b[0m         \u001b[38;5;28;01mraise\u001b[39;00m \u001b[38;5;167;01mTypeError\u001b[39;00m(\u001b[38;5;124m\"\u001b[39m\u001b[38;5;124mlabel expects a string or None\u001b[39m\u001b[38;5;124m\"\u001b[39m)\n\u001b[0;32m     94\u001b[0m     \u001b[38;5;28mself\u001b[39m\u001b[38;5;241m.\u001b[39m_label \u001b[38;5;241m=\u001b[39m label\n\u001b[0;32m     95\u001b[0m \u001b[38;5;66;03m# tuple (ClassicalRegister, int), tuple (Clbit, bool) or tuple (Clbit, int)\u001b[39;00m\n\u001b[0;32m     96\u001b[0m \u001b[38;5;66;03m# when the instruction has a conditional (\"if\")\u001b[39;00m\n",
      "\u001b[1;31mTypeError\u001b[0m: label expects a string or None"
     ]
    }
   ],
   "source": [
    "circuit.x(qr[0],qr[0])"
   ]
  },
  {
   "cell_type": "markdown",
   "id": "60cf69a8-6125-40bb-93d7-9d528eb2ff6b",
   "metadata": {},
   "source": [
    "# Gates"
   ]
  },
  {
   "cell_type": "markdown",
   "id": "e652ea23-a036-4422-be95-67bcb2e90ae0",
   "metadata": {},
   "source": [
    "## Hadamard Gate \r\n",
    "\r\n",
    "### Introduction\r\n",
    "\r\n",
    "The Hadamard Gate, often denoted as \\(H\\), plays a crucial role in quantum computing for creating superpositions. This gate acts on a single qubit and produces a superposition of \\(|0\\rangle\\) and \\(|1\\rangle\\) states.\r\n",
    "\r\n",
    "### Mathematical Representation\r\n",
    "\r\n",
    "The Hadamard gate is represented by the following matrix:\r\n",
    "\r\n",
    "<img src=\"https://latex.codecogs.com/svg.image?H&space;=&space;\\frac{1}{\\sqrt{2}}\\begin{pmatrix}1&1\\\\1&-1\\end{pmatrix}\" alt=\"Hadamard Matrix\" />\r\n",
    "\r\n",
    "### Action on Basis States\r\n",
    "\r\n",
    "When applied to the basis states, the Hadamard gate performs the following transformations:\r\n",
    "\r\n",
    "<img src=\"https://latex.codecogs.com/svg.image?H|0\\rangle&space;=&space;\\frac{1}{\\sqrt{2}}(|0\\rangle&space;+&space;|1\\rangle)\" alt=\"Hadamard on |0⟩\" />\r\n",
    "\r\n",
    "<img src=\"https://latex.codecogs.com/svg.image?H|1\\rangle&space;=&space;\\frac{1}{\\sqrt{2}}(|0\\rangle&space;-&space;|1\\rangle)\" alt=\"Hadamard on |1⟩\" />\r\n",
    "\r\n",
    "### Code Implementation\r\n",
    "\r\n",
    "In Qiskit, applying a Hadamard gate to the first qubit in a quantum register can be done using the following line of code:\r\n",
    "\r\n",
    "```python\r\n",
    "circuit.h(qr[0])\r\n"
   ]
  },
  {
   "cell_type": "code",
   "execution_count": 129,
   "id": "077be34d-7065-44f2-8a41-8f6e07fe9391",
   "metadata": {},
   "outputs": [
    {
     "data": {
      "text/plain": [
       "<qiskit.circuit.instructionset.InstructionSet at 0x261e18dc700>"
      ]
     },
     "execution_count": 129,
     "metadata": {},
     "output_type": "execute_result"
    }
   ],
   "source": [
    "circuit.h(qr[0])"
   ]
  },
  {
   "cell_type": "markdown",
   "id": "dd55296e-2063-40ef-bac4-8d9086da03eb",
   "metadata": {},
   "source": [
    "## Applying the Hadamard Gate to a Qubit\n",
    "\n",
    "In quantum computing, the Hadamard Gate, denoted as \\(H\\), is a fundamental gate used to create superpositions. This gate acts on a single qubit and transforms its state. Let's break down the code `circuit.h(qr[0])`:\n",
    "\n",
    "### Quantum Circuit and Quantum Register\n",
    "\n",
    "- `circuit`: This represents the quantum circuit where quantum operations are performed. It should have been defined earlier in your code.\n",
    "\n",
    "- `qr[0]`: This specifies the first qubit in a quantum register named `qr`. In Qiskit, quantum registers are used to hold qubits, and they are zero-indexed. So, `qr[0]` refers to the first qubit in the register.\n",
    "\n",
    "### Applying the Hadamard Gate\n",
    "\n",
    "- `.h(qr[0])`: This part of the code applies the Hadamard gate (H-gate) to the specified qubit. The H-gate is a key quantum gate that creates superpositions.\n",
    "\n",
    "\n",
    "In simpler terms, it creates a superposition of the |0⟩ and |1⟩ states. This means that the qubit will be in a state that is a combination of both |0⟩ and |1⟩, which is a fundamental concept in quantum computing.\n",
    "\n",
    "### Significance\n",
    "\n",
    "The Hadamard gate is commonly used in quantum algorithms and circuits to initialize qubits in a superposition state. This enables quantum computers to explore multiple possibilities in parallel, a capability that classical computers lack. It is a crucial component in many quantum algorithms and plays a vital role in quantum computing.\n",
    "\n",
    "In summary, the code `circuit.h(qr[0])` applies the Hadamard gate to the first qubit in a quantum register, creating a superposition of |0⟩ and |1⟩ states, which is a fundamental step in quantum computations.\n"
   ]
  },
  {
   "cell_type": "code",
   "execution_count": 130,
   "id": "d19fbded-8553-4724-9003-19256cf293ce",
   "metadata": {},
   "outputs": [
    {
     "data": {
      "image/png": "[encoded data removed]",
      "text/plain": [
       "<Figure size 400.751x200.667 with 1 Axes>"
      ]
     },
     "execution_count": 130,
     "metadata": {},
     "output_type": "execute_result"
    }
   ],
   "source": [
    "circuit.draw(output = 'mpl')"
   ]
  },
  {
   "cell_type": "markdown",
   "id": "7930df0e-7386-4e8a-a7d9-1a320fe5a4b8",
   "metadata": {},
   "source": [
    "# X Gate"
   ]
  },
  {
   "cell_type": "code",
   "execution_count": 117,
   "id": "82e23e70-e4f9-43d0-8514-68ca3b15a9fd",
   "metadata": {},
   "outputs": [
    {
     "data": {
      "text/plain": [
       "<qiskit.circuit.instructionset.InstructionSet at 0x261e159e9e0>"
      ]
     },
     "execution_count": 117,
     "metadata": {},
     "output_type": "execute_result"
    }
   ],
   "source": [
    "circuit.cx(qr[0],qr[1])"
   ]
  },
  {
   "cell_type": "markdown",
   "id": "45a29f8e-ca87-4c0d-a69a-f64fd822f8cf",
   "metadata": {},
   "source": [
    "## Applying the Controlled-X (CNOT) Gate\r\n",
    "\r\n",
    "In quantum computing, the Controlled-X (CNOT) gate, denoted as CX, is a two-qubit gate that performs an operation on the target qubit based on the state of the control qubit. Let's break down the code `circuit.cx(qr[0], qr[1])`:\r\n",
    "\r\n",
    "### Quantum Circuit and Quantum Register\r\n",
    "\r\n",
    "- `circuit`: This represents the quantum circuit where quantum operations are performed. It should have been defined earlier in your code.\r\n",
    "\r\n",
    "- `qr[0]` and `qr[1]`: These specify two qubits in a quantum register named `qr`. In Qiskit, quantum registers are used to hold qubits, and they are zero-indexed. So, `qr[0]` and `qr[1]` refer to the first and second qubits in the register, respectively.\r\n",
    "\r\n",
    "### Applying the Controlled-X (CNOT) Gate\r\n",
    "\r\n",
    "- `.cx(qr[0], qr[1])`: This part of the code applies the Controlled-X (CNOT) gate between the specified control qubit (`qr[0]`) and target qubit (`qr[1]`).\r\n",
    "\r\n",
    "### How the CNOT Gate Works\r\n",
    "\r\n",
    "The CNOT gate operates as follows:\r\n",
    "\r\n",
    "- If the control qubit (qr[0]) is initially in the state |0⟩, the target qubit (qr[1]) remains in its current state.\r\n",
    "\r\n",
    "- If the control qubit (qr[0]) is initially in the state |1⟩, the CNOT gate flips the state of the target qubit (qr[1]) from |0⟩ to |1⟩ or from |1⟩ to |0⟩.\r\n",
    "\r\n",
    "In summary, the CNOT gate allows conditional operations based on the state of the control qubit. It is a crucial building block for constructing quantum circuits and performing quantum computations.\r\n",
    "\r\n",
    "### Significance\r\n",
    "\r\n",
    "The CNOT gate is widely used in quantum algorithms and quantum error correction codes. It plays a significant role in entangling qubits and performing quantum logic operations, making it a fundamental component of many quantum circuits.\r\n",
    "\r\n",
    "In the code `circuit.cx(qr[0], qr[1])`, the CNOT gate is applied to the control qubit `qr[0]` and the target qubit `qr[1]`, leading to entanglement and conditional operations between these two qubits.\r\n",
    "s between these two qubits.\r\n",
    "\\\r\n",
    "0 & 0 & 1 & 0 \\\\\r\n",
    "\\end{pmatrix}\r\n",
    "$$\r\n"
   ]
  },
  {
   "cell_type": "code",
   "execution_count": 118,
   "id": "e2870b11-b3aa-4724-800b-60a863a048a7",
   "metadata": {},
   "outputs": [
    {
     "data": {
      "image/png": "[encoded data removed]",
      "text/plain": [
       "<Figure size 335.573x451.5 with 1 Axes>"
      ]
     },
     "execution_count": 118,
     "metadata": {},
     "output_type": "execute_result"
    }
   ],
   "source": [
    "circuit.draw(output = 'mpl')"
   ]
  },
  {
   "cell_type": "markdown",
   "id": "28b28b99-0912-48ab-a783-1b8da12b4d19",
   "metadata": {},
   "source": [
    "## Quantum Measurement and Simulation\n",
    "\n",
    "In quantum computing, measuring a qubit is a crucial operation to extract information from a quantum state. In this code, we'll explore the process of measuring a quantum bit (qubit) and simulating the outcomes using Qiskit.\n",
    "\n",
    "### Measuring the Qubit\n",
    "\n",
    "To measure a qubit, we first need to create a quantum circuit that contains the qubit we want to measure and a classical register to store the measurement result. \n",
    "\n",
    "To understand the measurement outcomes without running on a physical quantum computer, we use a quantum simulator. Qiskit provides the AerSimulator for this purpose. After simulating the circuit, we obtain the measurement outcomes in the result object. The histogram displays the number of times each measurement result occurred. It helps us understand the probability distribution of the qubit states after measurement, providing valuable insights into the quantum computation.\n"
   ]
  },
  {
   "cell_type": "code",
   "execution_count": 10,
   "id": "57c6ee0c-0bd4-40cf-92f8-b0c90807cb94",
   "metadata": {
    "scrolled": true
   },
   "outputs": [
    {
     "name": "stderr",
     "output_type": "stream",
     "text": [
      "C:\\Users\\kahwa\\AppData\\Local\\Temp\\ipykernel_4704\\830588723.py:8: DeprecationWarning: Using a qobj for run() is deprecated as of qiskit-aer 0.9.0 and will be removed no sooner than 3 months from that release date. Transpiled circuits should now be passed directly using `backend.run(circuits, **run_options).\n",
      "  result = simulator.run(qobj).result()\n"
     ]
    },
    {
     "data": {
      "image/png": "[encoded data removed]",
      "text/plain": [
       "<Figure size 700x500 with 1 Axes>"
      ]
     },
     "execution_count": 10,
     "metadata": {},
     "output_type": "execute_result"
    }
   ],
   "source": [
    "# Measure the qubit and store the result in the classical register\n",
    "circuit.measure(qr, cr)\n",
    "\n",
    "# Simulate the circuit and get the measurement outcomes\n",
    "simulator = AerSimulator()\n",
    "t_circuit = transpile(circuit, simulator)\n",
    "qobj = assemble(t_circuit)\n",
    "result = simulator.run(qobj).result()\n",
    "counts = result.get_counts()\n",
    "\n",
    "# Visualize the measurement outcomes\n",
    "plot_histogram(counts)\n"
   ]
  },
  {
   "cell_type": "markdown",
   "id": "3096affc-003b-4905-8335-3d418d0da8fc",
   "metadata": {},
   "source": [
    "# Z Gate"
   ]
  },
  {
   "cell_type": "markdown",
   "id": "14dbba18-7511-4cf5-b66e-d86479429b55",
   "metadata": {},
   "source": [
    "The Z gate, often denoted as Z, is a fundamental quantum gate used in quantum computing. It is a single-qubit gate that operates on a quantum bit (qubit). The primary function of the Z gate is to introduce a phase flip along the Z-axis of the Bloch sphere. Here's a brief explanation of what the Z gate does:\n",
    "\n",
    "Description:\n",
    "The Z gate is part of the Pauli-Z gate set, which also includes the X gate (bit flip) and the Y gate (Y-axis phase flip). When applied to a qubit, the Z gate performs a specific quantum operation, which can be described as follows:\n",
    "\n",
    "- If the qubit is in the state |0⟩, the Z gate leaves it unchanged.\n",
    "\n",
    "- If the qubit is in the state |1⟩, the Z gate introduces a phase change, turning it into -|1⟩.\n",
    "\n",
    "Geometric Interpretation:\r\n",
    "Geometrically, the Z gate corresponds to a 180-degree rotation about the Z-axis of the Bloch sphere. It leaves the probability amplitudes of the |0⟩ and |1⟩ states unchanged while introducing a phase factor of -1 to the |1⟩ state."
   ]
  },
  {
   "cell_type": "code",
   "execution_count": 120,
   "id": "a4a3f211-92db-4dec-9253-18e90611e294",
   "metadata": {},
   "outputs": [
    {
     "data": {
      "image/png": "[encoded data removed]",
      "text/plain": [
       "<Figure size 502.795x451.5 with 1 Axes>"
      ]
     },
     "metadata": {},
     "output_type": "display_data"
    }
   ],
   "source": [
    "# Apply a Z-gate (Pauli-Z)\n",
    "circuit.z(qr[0])\n",
    "display(circuit_drawer(circuit, output='mpl'))\n"
   ]
  },
  {
   "cell_type": "markdown",
   "id": "0ac39664-76be-4c10-88d7-f4c0e3cf9748",
   "metadata": {},
   "source": [
    "# Y Gate"
   ]
  },
  {
   "cell_type": "markdown",
   "id": "5108b14f-c2fd-410a-a88a-feb56ea0af0c",
   "metadata": {},
   "source": [
    "The Y gate, often denoted as Y, is one of the fundamental quantum gates used in quantum computing. It is a single-qubit gate that operates on a quantum bit (qubit). The primary function of the Y gate is to introduce a phase flip along the Y-axis of the Bloch sphere. Here's a brief explanation you can use to write about the Y gate:\n",
    "\n",
    "Description:\n",
    "The Y gate is part of the Pauli-Y gate set, which also includes the X gate (bit flip) and the Z gate (phase flip). When applied to a qubit, the Y gate performs a specific quantum operation, which can be described as follows:\n",
    "\n",
    "If the qubit is in the state |0⟩, the Y gate transforms it into the state |1⟩, introducing a phase change.\n",
    "\n",
    "If the qubit is in the state |1⟩, the Y gate transforms it into the state |0⟩, also introducing a phase change.\n",
    "\n",
    "\n",
    "Geometric Interpretation:\r\n",
    "Geometrically, the Y gate corresponds to a 180-degree rotation about the Y-axis of the Bloch sphere. It swaps the probability amplitudes of the |0⟩ and |1⟩ states while introducing an imaginary phase factor."
   ]
  },
  {
   "cell_type": "code",
   "execution_count": 76,
   "id": "0e8a0760-3cd3-4661-adde-893964168965",
   "metadata": {},
   "outputs": [
    {
     "data": {
      "image/png": "[encoded data removed]",
      "text/plain": [
       "<Figure size 837.038x284.278 with 1 Axes>"
      ]
     },
     "metadata": {},
     "output_type": "display_data"
    }
   ],
   "source": [
    "# Apply a Y-gate (Pauli-Y)\n",
    "circuit.y(qr[0])\n",
    "display(circuit_drawer(circuit, output='mpl'))\n"
   ]
  },
  {
   "cell_type": "code",
   "execution_count": null,
   "id": "82345093-424c-4fb6-8e89-8051cc702e87",
   "metadata": {},
   "outputs": [],
   "source": [
    "\n",
    "\n",
    "# Apply an S-gate\n",
    "circuit.s(qr[0])\n",
    "\n",
    "# Apply a T-gate\n",
    "circuit.t(qr[0])"
   ]
  }
 ],
 "metadata": {
  "kernelspec": {
   "display_name": "Python 3 (ipykernel)",
   "language": "python",
   "name": "python3"
  },
  "language_info": {
   "codemirror_mode": {
    "name": "ipython",
    "version": 3
   },
   "file_extension": ".py",
   "mimetype": "text/x-python",
   "name": "python",
   "nbconvert_exporter": "python",
   "pygments_lexer": "ipython3",
   "version": "3.11.5"
  }
 },
 "nbformat": 4,
 "nbformat_minor": 5
}
